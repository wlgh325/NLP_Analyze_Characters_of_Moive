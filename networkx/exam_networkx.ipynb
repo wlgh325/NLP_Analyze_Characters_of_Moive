{
 "cells": [
  {
   "cell_type": "markdown",
   "metadata": {},
   "source": [
    "# Reference site\n",
    "https://networkx.github.io/documentation/stable/tutorial.html#creating-a-graph"
   ]
  },
  {
   "cell_type": "code",
   "execution_count": 2,
   "metadata": {},
   "outputs": [],
   "source": [
    "import networkx as nx\n",
    "import matplotlib.pyplot as plt"
   ]
  },
  {
   "cell_type": "markdown",
   "metadata": {},
   "source": [
    "# Make graph"
   ]
  },
  {
   "cell_type": "code",
   "execution_count": 2,
   "metadata": {},
   "outputs": [],
   "source": [
    "# create a empty graph with no nodes and no edges\n",
    "G = nx.Graph()"
   ]
  },
  {
   "cell_type": "markdown",
   "metadata": {},
   "source": [
    "# add Nodes"
   ]
  },
  {
   "cell_type": "code",
   "execution_count": 3,
   "metadata": {},
   "outputs": [],
   "source": [
    "# add node 1\n",
    "G.add_node(1)"
   ]
  },
  {
   "cell_type": "code",
   "execution_count": 4,
   "metadata": {},
   "outputs": [],
   "source": [
    "# add a lists of nodes\n",
    "# add node 2 and 3\n",
    "node_lists = [2,3]\n",
    "G.add_nodes_from(node_lists)"
   ]
  },
  {
   "cell_type": "markdown",
   "metadata": {},
   "source": [
    "# add Edges"
   ]
  },
  {
   "cell_type": "code",
   "execution_count": 5,
   "metadata": {},
   "outputs": [],
   "source": [
    "# add Edges\n",
    "# node 1과 node2를 잇는다\n",
    "G.add_edge(1,2)\n",
    "e=(2,3)\n",
    "\n",
    "# node 2와 node3을 잇는다\n",
    "G.add_edge(*e)\n",
    "\n",
    "G.add_edge(2,4)"
   ]
  },
  {
   "cell_type": "code",
   "execution_count": 6,
   "metadata": {},
   "outputs": [
    {
     "name": "stdout",
     "output_type": "stream",
     "text": [
      "4\n",
      "3\n"
     ]
    }
   ],
   "source": [
    "# print number of nodes\n",
    "print(G.number_of_nodes())\n",
    "\n",
    "# print number of edges\n",
    "print(G.number_of_edges())"
   ]
  },
  {
   "cell_type": "markdown",
   "metadata": {},
   "source": [
    "# Graph의 기본 4가지 속성\n",
    "1. nodes\n",
    "2. edges\n",
    "3. adj (adjacencies, neighbors)\n",
    "4. degress"
   ]
  },
  {
   "cell_type": "code",
   "execution_count": 7,
   "metadata": {},
   "outputs": [
    {
     "name": "stdout",
     "output_type": "stream",
     "text": [
      "[1, 2, 3, 4]\n"
     ]
    }
   ],
   "source": [
    "# G 의 node들을 list 형태로 print\n",
    "print(list(G.nodes))"
   ]
  },
  {
   "cell_type": "code",
   "execution_count": 8,
   "metadata": {},
   "outputs": [
    {
     "name": "stdout",
     "output_type": "stream",
     "text": [
      "[(1, 2), (2, 3), (2, 4)]\n"
     ]
    }
   ],
   "source": [
    "# G의 edge들을 lsit 형태로 print\n",
    "print(list(G.edges))"
   ]
  },
  {
   "cell_type": "code",
   "execution_count": 9,
   "metadata": {},
   "outputs": [
    {
     "name": "stdout",
     "output_type": "stream",
     "text": [
      "adj[1]:  [2]\n",
      "adj[2]:  [1, 3, 4]\n",
      "adj[3]:  [2]\n"
     ]
    }
   ],
   "source": [
    "# G의 adj print\n",
    "# G.adj[1] = G[1]\n",
    "print('adj[1]: ',list(G.adj[1]))\n",
    "print('adj[2]: ',list(G.adj[2]))\n",
    "print('adj[3]: ',list(G.adj[3]))"
   ]
  },
  {
   "cell_type": "code",
   "execution_count": 10,
   "metadata": {},
   "outputs": [
    {
     "name": "stdout",
     "output_type": "stream",
     "text": [
      "1\n",
      "3\n",
      "1\n"
     ]
    }
   ],
   "source": [
    "# print degree\n",
    "# 각 노드에 연결된 edges의 수 = degree\n",
    "print(G.degree[1])\n",
    "print(G.degree[2])\n",
    "print(G.degree[3])"
   ]
  },
  {
   "cell_type": "markdown",
   "metadata": {},
   "source": [
    "# specify to report the edges and degree using nbunch"
   ]
  },
  {
   "cell_type": "markdown",
   "metadata": {},
   "source": [
    "# print edges using nbunch"
   ]
  },
  {
   "cell_type": "code",
   "execution_count": 11,
   "metadata": {},
   "outputs": [
    {
     "name": "stdout",
     "output_type": "stream",
     "text": [
      "[(2, 1), (2, 3), (2, 4)]\n"
     ]
    }
   ],
   "source": [
    "# Print specific edges\n",
    "# print edges contained 2 node\n",
    "print( G.edges([2]))"
   ]
  },
  {
   "cell_type": "code",
   "execution_count": 12,
   "metadata": {},
   "outputs": [
    {
     "name": "stdout",
     "output_type": "stream",
     "text": [
      "[(1, 2), (3, 2)]\n"
     ]
    }
   ],
   "source": [
    "# []안에 여러 node를 넣을 수 있다\n",
    "print( G.edges([1,3]))"
   ]
  },
  {
   "cell_type": "markdown",
   "metadata": {},
   "source": [
    "## print degree using nbunch"
   ]
  },
  {
   "cell_type": "code",
   "execution_count": 13,
   "metadata": {},
   "outputs": [
    {
     "name": "stdout",
     "output_type": "stream",
     "text": [
      "[(2, 3)]\n",
      "[(2, 3), (3, 1)]\n"
     ]
    }
   ],
   "source": [
    "# G.degree([node name]) : node에 해당하는 degree를 출력\n",
    "# result: (node name, degree)\n",
    "\n",
    "print( G.degree([2]))\n",
    "print( G.degree([2,3]))"
   ]
  },
  {
   "cell_type": "markdown",
   "metadata": {},
   "source": [
    "# remove node and edges"
   ]
  },
  {
   "cell_type": "code",
   "execution_count": 14,
   "metadata": {},
   "outputs": [
    {
     "name": "stdout",
     "output_type": "stream",
     "text": [
      "[]\n"
     ]
    },
    {
     "data": {
      "text/plain": [
       "'\\nF.remove_edge(2,3)\\nprint(list(F.edges))\\n'"
      ]
     },
     "execution_count": 14,
     "metadata": {},
     "output_type": "execute_result"
    }
   ],
   "source": [
    "F = nx.Graph()\n",
    "F_node_lists = [1,2,3]\n",
    "F.add_nodes_from(F_node_lists)\n",
    "\n",
    "F.add_edge(1,2)\n",
    "F.add_edge(2,3)\n",
    "\n",
    "# remove node\n",
    "# node에 연결되 있던 edge도 모두 사라진다\n",
    "F.remove_node(3)\n",
    "\n",
    "# tuple형태로 한 번에 노드 지우기\n",
    "F.remove_nodes_from((1,2))\n",
    "print(list(F.nodes))\n",
    "\n",
    "\n",
    "#remove edge\n",
    "'''\n",
    "F.remove_edge(2,3)\n",
    "print(list(F.edges))\n",
    "'''"
   ]
  },
  {
   "cell_type": "markdown",
   "metadata": {},
   "source": [
    "# DiGraph"
   ]
  },
  {
   "cell_type": "code",
   "execution_count": 15,
   "metadata": {},
   "outputs": [
    {
     "name": "stdout",
     "output_type": "stream",
     "text": [
      "H's edges:  [(1, 2), (2, 1), (2, 3), (2, 4), (3, 2), (4, 2)]\n",
      "G's edges:  [(1, 2), (2, 3), (2, 4)]\n"
     ]
    }
   ],
   "source": [
    "# G를 가지고 방향성 있는 그래프로 바꾸기\n",
    "H = nx.DiGraph(G)\n",
    "print(\"H's edges: \",list(H.edges))\n",
    "print(\"G's edges: \",list(G.edges))"
   ]
  },
  {
   "cell_type": "markdown",
   "metadata": {},
   "source": [
    "# Create graph"
   ]
  },
  {
   "cell_type": "code",
   "execution_count": 16,
   "metadata": {},
   "outputs": [
    {
     "name": "stdout",
     "output_type": "stream",
     "text": [
      "H's edges:  [(0, 1), (1, 2), (2, 3)]\n",
      "H's nodes:  [0, 1, 2, 3]\n"
     ]
    }
   ],
   "source": [
    "edgelist = [ (0,1), (1,2), (2,3) ]\n",
    "H = nx.Graph(edgelist)\n",
    "\n",
    "print(\"H's edges: \",list(H.edges))\n",
    "print(\"H's nodes: \",list(H.nodes))"
   ]
  },
  {
   "cell_type": "code",
   "execution_count": 17,
   "metadata": {},
   "outputs": [],
   "source": [
    "# G[1][2] = edge: (1,2)\n",
    "# G.edges[1,2] = edge: (1,2)\n",
    "G[1][2]['color'] = \"blue\"\n",
    "G.edges[2,3]['color'] = \"red\""
   ]
  },
  {
   "cell_type": "markdown",
   "metadata": {},
   "source": [
    "# add weight & examine all adjacency pairs"
   ]
  },
  {
   "cell_type": "code",
   "execution_count": 18,
   "metadata": {},
   "outputs": [
    {
     "name": "stdout",
     "output_type": "stream",
     "text": [
      "{2: {'weight': 0.125}, 3: {'weight': 0.75}}\n",
      "(1, 2, 0.125)\n",
      "{1: {'weight': 0.125}}\n",
      "(2, 1, 0.125)\n",
      "{1: {'weight': 0.75}, 4: {'weight': 0.375}}\n",
      "(3, 4, 0.375)\n",
      "{3: {'weight': 0.375}}\n",
      "(4, 3, 0.375)\n"
     ]
    }
   ],
   "source": [
    "FG = nx.Graph()\n",
    "FG.add_weighted_edges_from([(1, 2, 0.125), (1, 3, 0.75), (3, 4, 0.375) ])\n",
    "\n",
    "# FG is undirected Graph -> see edge twice\n",
    "# 1이랑 연결된것, 2랑 연결된것... 이렇게 차례로 본다\n",
    "for n, nbrs in FG.adj.items():\n",
    "    # nbr: eattr\n",
    "    print(nbrs)\n",
    "    for nbr, eattr in nbrs.items():\n",
    "        wt = eattr['weight']\n",
    "        if wt < 0.5:\n",
    "            print('(%d, %d, %.3f)' %(n, nbr, wt))"
   ]
  },
  {
   "cell_type": "markdown",
   "metadata": {},
   "source": [
    "# examine all edges"
   ]
  },
  {
   "cell_type": "code",
   "execution_count": 19,
   "metadata": {},
   "outputs": [
    {
     "name": "stdout",
     "output_type": "stream",
     "text": [
      "(1, 2, 0.125)\n",
      "(3, 4, 0.375)\n"
     ]
    }
   ],
   "source": [
    "# edge: (u, v)\n",
    "for (u, v, wt) in FG.edges.data('weight'):\n",
    "    if wt < 0.5:\n",
    "        print('(%d, %d, %.3f)' %(u, v, wt))"
   ]
  },
  {
   "cell_type": "markdown",
   "metadata": {},
   "source": [
    "# Adding attributes"
   ]
  },
  {
   "cell_type": "markdown",
   "metadata": {},
   "source": [
    "## add Graph attributes"
   ]
  },
  {
   "cell_type": "code",
   "execution_count": 20,
   "metadata": {},
   "outputs": [
    {
     "name": "stdout",
     "output_type": "stream",
     "text": [
      "{'day': 'Friday'}\n",
      "{'day': 'Monday'}\n"
     ]
    }
   ],
   "source": [
    "GA = nx.Graph(day=\"Friday\")\n",
    "print(GA.graph)\n",
    "\n",
    "# modification of attributes\n",
    "GA.graph['day'] = \"Monday\"\n",
    "print(GA.graph)"
   ]
  },
  {
   "cell_type": "markdown",
   "metadata": {},
   "source": [
    "## add Node attributes"
   ]
  },
  {
   "cell_type": "code",
   "execution_count": 21,
   "metadata": {},
   "outputs": [
    {
     "name": "stdout",
     "output_type": "stream",
     "text": [
      "node 1's attributes:  {'time': '2pm'}\n",
      "node 2's attributes:  {}\n",
      "[(1, {'time': '2pm', 'room': 714}), (2, {}), (3, {}), (4, {'time': '5pm'})]\n"
     ]
    }
   ],
   "source": [
    "# 새로운 노드를 추가하면서 attribute도 추가\n",
    "G.add_node(4, time='5pm')\n",
    "\n",
    "# 원래있던 1번 노드에 time attribute 추가\n",
    "G.add_nodes_from([1], time='2pm')\n",
    "\n",
    "print(\"node 1's attributes: \",G.nodes[1])\n",
    "\n",
    "# 속성을 추가안해서 아무것도 안나옴\n",
    "print(\"node 2's attributes: \",G.nodes[2])\n",
    "\n",
    "# 아래와 같은 방식으로도 attribute 추가 가능 (이미 있는 node에 대해서만 가능)\n",
    "G.nodes[1]['room'] = 714\n",
    "\n",
    "print(G.nodes.data())"
   ]
  },
  {
   "cell_type": "markdown",
   "metadata": {},
   "source": [
    "## add Edge attributes"
   ]
  },
  {
   "cell_type": "code",
   "execution_count": 22,
   "metadata": {},
   "outputs": [
    {
     "name": "stdout",
     "output_type": "stream",
     "text": [
      "[(1, 2, {'color': 'blue', 'weight': 4.7}), (2, 3, {'color': 'red', 'weight': 9.9}), (2, 4, {})]\n"
     ]
    }
   ],
   "source": [
    "G.add_edge(1, 2, weight=4.7)\n",
    "G[2][3]['weight'] = 9.9\n",
    "\n",
    "# 모든 edge들에 대한 데이터 출력\n",
    "print(G.edges.data())"
   ]
  },
  {
   "cell_type": "markdown",
   "metadata": {},
   "source": [
    "# Draw Graph"
   ]
  },
  {
   "cell_type": "code",
   "execution_count": 25,
   "metadata": {},
   "outputs": [
    {
     "data": {
      "image/png": "[encoded data removed]",
      "text/plain": [
       "<Figure size 432x288 with 1 Axes>"
      ]
     },
     "metadata": {},
     "output_type": "display_data"
    }
   ],
   "source": [
    "nx.draw(G, with_labels=True, font_weight='bold')"
   ]
  },
  {
   "cell_type": "code",
   "execution_count": 11,
   "metadata": {
    "scrolled": false
   },
   "outputs": [
    {
     "name": "stdout",
     "output_type": "stream",
     "text": [
      "nodes:  ['VANESSA', 'DOPINDER', 'DEADPOOL', 'ANGEL DUST', 'COLOSSUS', 'WEASEL', 'AJAX', 'WADE']\n",
      "edges:  [('AJAX', 'ANGEL DUST'), ('AJAX', 'DEADPOOL'), ('AJAX', 'VANESSA'), ('AJAX', 'WADE'), ('COLOSSUS', 'DEADPOOL'), ('DEADPOOL', 'DOPINDER'), ('VANESSA', 'WADE'), ('WADE', 'WEASEL')]\n",
      "weights:  ['4.0', '6.0', '4.0', '6.0', '4.0', '4.0', '8.0', '4.0']\n",
      "[('VANESSA', 'AJAX', {'weight': '4.0'}), ('VANESSA', 'WADE', {'weight': '8.0'}), ('DOPINDER', 'DEADPOOL', {'weight': '4.0'}), ('DEADPOOL', 'AJAX', {'weight': '6.0'}), ('DEADPOOL', 'COLOSSUS', {'weight': '4.0'}), ('ANGEL DUST', 'AJAX', {'weight': '4.0'}), ('WEASEL', 'WADE', {'weight': '4.0'}), ('AJAX', 'WADE', {'weight': '6.0'})]\n"
     ]
    },
    {
     "data": {
      "image/png": "[encoded data removed]",
      "text/plain": [
       "<Figure size 432x288 with 1 Axes>"
      ]
     },
     "metadata": {},
     "output_type": "display_data"
    }
   ],
   "source": [
    "f = open('deadpool.txt', \"r\")\n",
    "lines =[]\n",
    "scene_delimiter = '#'\n",
    "weight_delimiter = '\\t'\n",
    "node_delimiter = '-'\n",
    "temp_line = ''\n",
    "\n",
    "nodes = []\n",
    "edges = []\n",
    "weights = []\n",
    "\n",
    "temp_lines = f.readlines()\n",
    "\n",
    "for line in temp_lines:\n",
    "    if line[-1] == '\\n':\n",
    "        lines.append(line[:-1])\n",
    "    else:\n",
    "        lines.append(line)\n",
    "    \n",
    "    \n",
    "f.close()\n",
    "\n",
    "\n",
    "# make Graph information\n",
    "for line in lines:\n",
    "    if '\\t' in line:\n",
    "        temp = line.split(weight_delimiter)\n",
    "        temp_nodes = temp[0]\n",
    "        temp_weight = temp[1]\n",
    "        \n",
    "        # add node\n",
    "        temp_nodes = temp[0].split(node_delimiter)\n",
    "        temp_node1 = temp_nodes[0]\n",
    "        temp_node2 = temp_nodes[1]\n",
    "        nodes.append(temp_node1)\n",
    "        nodes.append(temp_node2)\n",
    "        \n",
    "        # add edge\n",
    "        temp_edge = (temp_node1, temp_node2)\n",
    "        edges.append(temp_edge)\n",
    "        \n",
    "        # add weight\n",
    "        weights.append(temp_weight)\n",
    "\n",
    "# 중복 node 제거\n",
    "temp_set = set(nodes)\n",
    "nodes = list(temp_set)\n",
    "\n",
    "\n",
    "# print Graph information\n",
    "print('nodes: ',nodes)\n",
    "print('edges: ',edges)\n",
    "print('weights: ',weights)\n",
    "\n",
    "\n",
    "GG = nx.Graph()\n",
    "GG.add_nodes_from(nodes)\n",
    "\n",
    "for i in range(len(edges)):\n",
    "    GG.add_edge(edges[i][0], edges[i][1], weight=weights[i])\n",
    "\n",
    "nx.draw(GG, with_labels=True, font_weight='bold')\n",
    "\n",
    "print(GG.edges.data())"
   ]
  },
  {
   "cell_type": "code",
   "execution_count": null,
   "metadata": {},
   "outputs": [],
   "source": []
  }
 ],
 "metadata": {
  "kernelspec": {
   "display_name": "Python 3",
   "language": "python",
   "name": "python3"
  },
  "language_info": {
   "codemirror_mode": {
    "name": "ipython",
    "version": 3
   },
   "file_extension": ".py",
   "mimetype": "text/x-python",
   "name": "python",
   "nbconvert_exporter": "python",
   "pygments_lexer": "ipython3",
   "version": "3.6.7"
  }
 },
 "nbformat": 4,
 "nbformat_minor": 2
}
